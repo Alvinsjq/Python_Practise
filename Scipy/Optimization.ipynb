{
 "cells": [
  {
   "cell_type": "markdown",
   "metadata": {},
   "source": [
    "这里主要是学习Scipy的Optimization库的笔记，该教程链接在[这里](https://docs.scipy.org/doc/scipy/reference/tutorial/optimize.html)"
   ]
  },
  {
   "cell_type": "markdown",
   "metadata": {},
   "source": [
    "scipy.optimize包提供了一些常见的最优化算法，可在[这里](https://docs.scipy.org/doc/scipy/reference/optimize.html#module-scipy.optimize)查看。该模块主要包括了一下几个内容：\n",
    "\n",
    "- minimize使用各种算法对非限定或限定的multivariate scalar functions进行最小值求解\n",
    "- 全局最优化路线\n",
    "- 最小二次乘法最优化求解和curve fitting算法\n",
    "- Scalar univariate functions最小化及根求解\n",
    "- 使用大量算法求解多元方程组等\n",
    "\n",
    "下面记录一些简单常用的最优化算法及其应用："
   ]
  },
  {
   "cell_type": "markdown",
   "metadata": {},
   "source": [
    "### minimize function\n",
    "#### The problem of minimizing the Rosenbrock function\n",
    "下面的例子展示了怎样去定义一个对象函数以及它的jacobian和hessian函数"
   ]
  },
  {
   "cell_type": "markdown",
   "metadata": {},
   "source": [
    "- Nelder-Mead Simplex algorithm (method='Nelder-Mead')\n",
    "\n",
    "首先选取的最优化算法是Nelder-Mead Simplex算法"
   ]
  },
  {
   "cell_type": "code",
   "execution_count": 2,
   "metadata": {},
   "outputs": [],
   "source": [
    "import numpy as np\n",
    "from scipy.optimize import minimize"
   ]
  },
  {
   "cell_type": "code",
   "execution_count": 3,
   "metadata": {},
   "outputs": [],
   "source": [
    "def rosen(x):\n",
    "    '''The Rosenbrock function'''\n",
    "    return sum(100.0*(x[1:]-x[:-1]**2.0)**2.0 + (1-x[:-1])**2.0)"
   ]
  },
  {
   "cell_type": "code",
   "execution_count": 5,
   "metadata": {},
   "outputs": [
    {
     "name": "stdout",
     "output_type": "stream",
     "text": [
      "Optimization terminated successfully.\n",
      "         Current function value: 0.000000\n",
      "         Iterations: 339\n",
      "         Function evaluations: 571\n"
     ]
    }
   ],
   "source": [
    "x0 = np.array([1.3, 0.7, 0.8, 1.9, 1.2])\n",
    "res = minimize(rosen, x0, method='nelder-mead',options={'xtol':1e-8,'disp':True})"
   ]
  },
  {
   "cell_type": "code",
   "execution_count": 6,
   "metadata": {},
   "outputs": [
    {
     "name": "stdout",
     "output_type": "stream",
     "text": [
      " final_simplex: (array([[1.        , 1.        , 1.        , 1.        , 1.        ],\n",
      "       [1.        , 1.        , 1.        , 1.        , 1.        ],\n",
      "       [1.        , 1.        , 1.        , 1.00000001, 1.00000001],\n",
      "       [1.        , 1.        , 1.        , 1.        , 1.        ],\n",
      "       [1.        , 1.        , 1.        , 1.        , 1.        ],\n",
      "       [1.        , 1.        , 1.        , 1.        , 0.99999999]]), array([4.86115343e-17, 7.65182843e-17, 8.11395684e-17, 8.63263255e-17,\n",
      "       8.64080682e-17, 2.17927418e-16]))\n",
      "           fun: 4.861153433422115e-17\n",
      "       message: 'Optimization terminated successfully.'\n",
      "          nfev: 571\n",
      "           nit: 339\n",
      "        status: 0\n",
      "       success: True\n",
      "             x: array([1., 1., 1., 1., 1.])\n"
     ]
    }
   ],
   "source": [
    "print(res)"
   ]
  },
  {
   "cell_type": "code",
   "execution_count": 7,
   "metadata": {},
   "outputs": [
    {
     "name": "stdout",
     "output_type": "stream",
     "text": [
      "[1. 1. 1. 1. 1.]\n"
     ]
    }
   ],
   "source": [
    "print(res.x) # the solutuion of the optimization\n"
   ]
  },
  {
   "cell_type": "markdown",
   "metadata": {},
   "source": [
    "这是最优化求解一个函数的最简单的方法，适合简单的情况。不过由于它没有提供任何梯度优化，所以会花费一些时间来寻找最小值；另一个相似算法是```Powells```。"
   ]
  },
  {
   "cell_type": "markdown",
   "metadata": {},
   "source": [
    "- Broyden-Fletcher-Goldfarb-Shanno algorithm (method='BFGS')"
   ]
  },
  {
   "cell_type": "code",
   "execution_count": null,
   "metadata": {},
   "outputs": [],
   "source": []
  }
 ],
 "metadata": {
  "kernelspec": {
   "display_name": "Python 3",
   "language": "python",
   "name": "python3"
  },
  "language_info": {
   "codemirror_mode": {
    "name": "ipython",
    "version": 3
   },
   "file_extension": ".py",
   "mimetype": "text/x-python",
   "name": "python",
   "nbconvert_exporter": "python",
   "pygments_lexer": "ipython3",
   "version": "3.6.4"
  }
 },
 "nbformat": 4,
 "nbformat_minor": 2
}
